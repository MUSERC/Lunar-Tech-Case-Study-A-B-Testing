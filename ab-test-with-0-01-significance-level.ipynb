{
 "cells": [
  {
   "cell_type": "code",
   "execution_count": 1,
   "id": "dc022b8c",
   "metadata": {
    "execution": {
     "iopub.execute_input": "2025-01-27T15:41:32.308125Z",
     "iopub.status.busy": "2025-01-27T15:41:32.307708Z",
     "iopub.status.idle": "2025-01-27T15:41:34.952858Z",
     "shell.execute_reply": "2025-01-27T15:41:34.951686Z"
    },
    "papermill": {
     "duration": 2.652891,
     "end_time": "2025-01-27T15:41:34.955052",
     "exception": false,
     "start_time": "2025-01-27T15:41:32.302161",
     "status": "completed"
    },
    "tags": []
   },
   "outputs": [],
   "source": [
    "import pandas as pd\n",
    "import numpy as np \n",
    "import math\n",
    "from scipy.stats import norm\n",
    "import matplotlib.pyplot as plt\n",
    "import seaborn as sns"
   ]
  },
  {
   "cell_type": "code",
   "execution_count": 2,
   "id": "0e077d85",
   "metadata": {
    "execution": {
     "iopub.execute_input": "2025-01-27T15:41:34.964575Z",
     "iopub.status.busy": "2025-01-27T15:41:34.963973Z",
     "iopub.status.idle": "2025-01-27T15:41:35.027381Z",
     "shell.execute_reply": "2025-01-27T15:41:35.026132Z"
    },
    "papermill": {
     "duration": 0.07005,
     "end_time": "2025-01-27T15:41:35.029285",
     "exception": false,
     "start_time": "2025-01-27T15:41:34.959235",
     "status": "completed"
    },
    "tags": []
   },
   "outputs": [
    {
     "name": "stdout",
     "output_type": "stream",
     "text": [
      "<class 'pandas.core.frame.DataFrame'>\n",
      "RangeIndex: 20000 entries, 0 to 19999\n",
      "Data columns (total 4 columns):\n",
      " #   Column     Non-Null Count  Dtype \n",
      "---  ------     --------------  ----- \n",
      " 0   user_id    20000 non-null  int64 \n",
      " 1   click      20000 non-null  int64 \n",
      " 2   group      20000 non-null  object\n",
      " 3   timestamp  10000 non-null  object\n",
      "dtypes: int64(2), object(2)\n",
      "memory usage: 625.1+ KB\n"
     ]
    }
   ],
   "source": [
    "data = pd.read_csv(\"/kaggle/input/lunar-tech-case-study-ab-testing/ab_test_click_data (1).csv\")\n",
    "data.info()"
   ]
  },
  {
   "cell_type": "code",
   "execution_count": 3,
   "id": "99ee1202",
   "metadata": {
    "execution": {
     "iopub.execute_input": "2025-01-27T15:41:35.038992Z",
     "iopub.status.busy": "2025-01-27T15:41:35.038642Z",
     "iopub.status.idle": "2025-01-27T15:41:35.055210Z",
     "shell.execute_reply": "2025-01-27T15:41:35.054126Z"
    },
    "papermill": {
     "duration": 0.023218,
     "end_time": "2025-01-27T15:41:35.056984",
     "exception": false,
     "start_time": "2025-01-27T15:41:35.033766",
     "status": "completed"
    },
    "tags": []
   },
   "outputs": [
    {
     "data": {
      "text/html": [
       "<div>\n",
       "<style scoped>\n",
       "    .dataframe tbody tr th:only-of-type {\n",
       "        vertical-align: middle;\n",
       "    }\n",
       "\n",
       "    .dataframe tbody tr th {\n",
       "        vertical-align: top;\n",
       "    }\n",
       "\n",
       "    .dataframe thead th {\n",
       "        text-align: right;\n",
       "    }\n",
       "</style>\n",
       "<table border=\"1\" class=\"dataframe\">\n",
       "  <thead>\n",
       "    <tr style=\"text-align: right;\">\n",
       "      <th></th>\n",
       "      <th>user_id</th>\n",
       "      <th>click</th>\n",
       "      <th>group</th>\n",
       "      <th>timestamp</th>\n",
       "    </tr>\n",
       "  </thead>\n",
       "  <tbody>\n",
       "    <tr>\n",
       "      <th>0</th>\n",
       "      <td>1</td>\n",
       "      <td>1</td>\n",
       "      <td>exp</td>\n",
       "      <td>2024-01-01 00:00:00</td>\n",
       "    </tr>\n",
       "    <tr>\n",
       "      <th>1</th>\n",
       "      <td>2</td>\n",
       "      <td>0</td>\n",
       "      <td>exp</td>\n",
       "      <td>2024-01-01 00:01:00</td>\n",
       "    </tr>\n",
       "    <tr>\n",
       "      <th>2</th>\n",
       "      <td>3</td>\n",
       "      <td>1</td>\n",
       "      <td>exp</td>\n",
       "      <td>2024-01-01 00:02:00</td>\n",
       "    </tr>\n",
       "    <tr>\n",
       "      <th>3</th>\n",
       "      <td>4</td>\n",
       "      <td>0</td>\n",
       "      <td>exp</td>\n",
       "      <td>2024-01-01 00:03:00</td>\n",
       "    </tr>\n",
       "    <tr>\n",
       "      <th>4</th>\n",
       "      <td>5</td>\n",
       "      <td>1</td>\n",
       "      <td>exp</td>\n",
       "      <td>2024-01-01 00:04:00</td>\n",
       "    </tr>\n",
       "  </tbody>\n",
       "</table>\n",
       "</div>"
      ],
      "text/plain": [
       "   user_id  click group            timestamp\n",
       "0        1      1   exp  2024-01-01 00:00:00\n",
       "1        2      0   exp  2024-01-01 00:01:00\n",
       "2        3      1   exp  2024-01-01 00:02:00\n",
       "3        4      0   exp  2024-01-01 00:03:00\n",
       "4        5      1   exp  2024-01-01 00:04:00"
      ]
     },
     "execution_count": 3,
     "metadata": {},
     "output_type": "execute_result"
    }
   ],
   "source": [
    "data.head()"
   ]
  },
  {
   "cell_type": "code",
   "execution_count": 4,
   "id": "dbbecfb6",
   "metadata": {
    "execution": {
     "iopub.execute_input": "2025-01-27T15:41:35.066613Z",
     "iopub.status.busy": "2025-01-27T15:41:35.066221Z",
     "iopub.status.idle": "2025-01-27T15:41:35.070283Z",
     "shell.execute_reply": "2025-01-27T15:41:35.069225Z"
    },
    "papermill": {
     "duration": 0.010719,
     "end_time": "2025-01-27T15:41:35.072047",
     "exception": false,
     "start_time": "2025-01-27T15:41:35.061328",
     "status": "completed"
    },
    "tags": []
   },
   "outputs": [],
   "source": [
    "#since we are doing A/B testing we are trying to find the effect of changes in the product so we need to use only click and group   "
   ]
  },
  {
   "cell_type": "code",
   "execution_count": 5,
   "id": "2e19fde5",
   "metadata": {
    "execution": {
     "iopub.execute_input": "2025-01-27T15:41:35.082042Z",
     "iopub.status.busy": "2025-01-27T15:41:35.081611Z",
     "iopub.status.idle": "2025-01-27T15:41:35.101065Z",
     "shell.execute_reply": "2025-01-27T15:41:35.099706Z"
    },
    "papermill": {
     "duration": 0.026393,
     "end_time": "2025-01-27T15:41:35.103069",
     "exception": false,
     "start_time": "2025-01-27T15:41:35.076676",
     "status": "completed"
    },
    "tags": []
   },
   "outputs": [],
   "source": [
    "exp_sum = data[data['group'] == 'exp']['click'].sum()\n",
    "con_sum = data[data['group'] == 'con']['click'].sum() if 'con' in data['group'].values else 0\n",
    "total_exp = (data['group'] == 'exp').sum()\n",
    "total_con = (data['group'] == 'con').sum()\n",
    "\n",
    "prob_exp = exp_sum / total_exp\n",
    "prob_con = con_sum / total_con"
   ]
  },
  {
   "cell_type": "code",
   "execution_count": 6,
   "id": "0f47df02",
   "metadata": {
    "execution": {
     "iopub.execute_input": "2025-01-27T15:41:35.112696Z",
     "iopub.status.busy": "2025-01-27T15:41:35.112300Z",
     "iopub.status.idle": "2025-01-27T15:41:35.118345Z",
     "shell.execute_reply": "2025-01-27T15:41:35.117020Z"
    },
    "papermill": {
     "duration": 0.012879,
     "end_time": "2025-01-27T15:41:35.120158",
     "exception": false,
     "start_time": "2025-01-27T15:41:35.107279",
     "status": "completed"
    },
    "tags": []
   },
   "outputs": [
    {
     "name": "stdout",
     "output_type": "stream",
     "text": [
      "Sum of '1's in exp: 6116\n",
      "Sum of '1's in con: 1989\n",
      "Total exp count: 10000\n",
      "Total con count: 10000\n"
     ]
    }
   ],
   "source": [
    "print(f\"Sum of '1's in exp: {exp_sum}\")\n",
    "print(f\"Sum of '1's in con: {con_sum}\")\n",
    "print(f\"Total exp count: {total_exp}\")\n",
    "print(f\"Total con count: {total_con}\")"
   ]
  },
  {
   "cell_type": "code",
   "execution_count": 7,
   "id": "b07538f5",
   "metadata": {
    "execution": {
     "iopub.execute_input": "2025-01-27T15:41:35.129919Z",
     "iopub.status.busy": "2025-01-27T15:41:35.129553Z",
     "iopub.status.idle": "2025-01-27T15:41:35.397989Z",
     "shell.execute_reply": "2025-01-27T15:41:35.396846Z"
    },
    "papermill": {
     "duration": 0.27558,
     "end_time": "2025-01-27T15:41:35.400113",
     "exception": false,
     "start_time": "2025-01-27T15:41:35.124533",
     "status": "completed"
    },
    "tags": []
   },
   "outputs": [
    {
     "data": {
      "image/png": "[encoded data removed]",
      "text/plain": [
       "<Figure size 800x600 with 1 Axes>"
      ]
     },
     "metadata": {},
     "output_type": "display_data"
    }
   ],
   "source": [
    "probabilities = {\n",
    "    \"Control\": prob_con,\n",
    "    \"Experimental\": prob_exp\n",
    "}\n",
    "\n",
    "prob_df = pd.DataFrame(list(probabilities.items()), columns=[\"Group\", \"Click Probability\"])\n",
    "\n",
    "# Bar plot \n",
    "plt.figure(figsize=(8, 6))\n",
    "sns.barplot(data=prob_df, x=\"Group\", y=\"Click Probability\", palette=\"viridis\")\n",
    "plt.title(\"Click Probability by Group\", fontsize=16)\n",
    "plt.ylabel(\"Click Probability\", fontsize=12)\n",
    "plt.xlabel(\"Group\", fontsize=12)\n",
    "plt.ylim(0, 1)\n",
    "plt.show()\n"
   ]
  },
  {
   "cell_type": "code",
   "execution_count": 8,
   "id": "9ea61dc7",
   "metadata": {
    "execution": {
     "iopub.execute_input": "2025-01-27T15:41:35.411279Z",
     "iopub.status.busy": "2025-01-27T15:41:35.410909Z",
     "iopub.status.idle": "2025-01-27T15:41:35.415077Z",
     "shell.execute_reply": "2025-01-27T15:41:35.413984Z"
    },
    "papermill": {
     "duration": 0.011463,
     "end_time": "2025-01-27T15:41:35.416735",
     "exception": false,
     "start_time": "2025-01-27T15:41:35.405272",
     "status": "completed"
    },
    "tags": []
   },
   "outputs": [],
   "source": [
    "# It is so obvious there is a significant difference between control group and experiment group that shows that the change in the product highly effects consumer actions but in order to prove we will further apply the Z test "
   ]
  },
  {
   "cell_type": "code",
   "execution_count": 9,
   "id": "78d307f6",
   "metadata": {
    "execution": {
     "iopub.execute_input": "2025-01-27T15:41:35.427528Z",
     "iopub.status.busy": "2025-01-27T15:41:35.427156Z",
     "iopub.status.idle": "2025-01-27T15:41:35.431274Z",
     "shell.execute_reply": "2025-01-27T15:41:35.430288Z"
    },
    "papermill": {
     "duration": 0.011412,
     "end_time": "2025-01-27T15:41:35.433121",
     "exception": false,
     "start_time": "2025-01-27T15:41:35.421709",
     "status": "completed"
    },
    "tags": []
   },
   "outputs": [],
   "source": [
    "#Power Analysis------ We will decide the power, significance level and Minimum Detectable Effect"
   ]
  },
  {
   "cell_type": "code",
   "execution_count": 10,
   "id": "2cfddb47",
   "metadata": {
    "execution": {
     "iopub.execute_input": "2025-01-27T15:41:35.443956Z",
     "iopub.status.busy": "2025-01-27T15:41:35.443588Z",
     "iopub.status.idle": "2025-01-27T15:41:35.447493Z",
     "shell.execute_reply": "2025-01-27T15:41:35.446513Z"
    },
    "papermill": {
     "duration": 0.01133,
     "end_time": "2025-01-27T15:41:35.449315",
     "exception": false,
     "start_time": "2025-01-27T15:41:35.437985",
     "status": "completed"
    },
    "tags": []
   },
   "outputs": [],
   "source": [
    "#Usually the companies decide the power then start to gathering data but since in that case ew have data we will find the power "
   ]
  },
  {
   "cell_type": "code",
   "execution_count": 11,
   "id": "6fabfed3",
   "metadata": {
    "execution": {
     "iopub.execute_input": "2025-01-27T15:41:35.460134Z",
     "iopub.status.busy": "2025-01-27T15:41:35.459750Z",
     "iopub.status.idle": "2025-01-27T15:41:35.467197Z",
     "shell.execute_reply": "2025-01-27T15:41:35.466249Z"
    },
    "papermill": {
     "duration": 0.01472,
     "end_time": "2025-01-27T15:41:35.468923",
     "exception": false,
     "start_time": "2025-01-27T15:41:35.454203",
     "status": "completed"
    },
    "tags": []
   },
   "outputs": [],
   "source": [
    "alpha = 0.01 # because there is really big probabalistic difference \n",
    "\n",
    "z_alpha = norm.ppf(1 - alpha / 2) \n",
    "\n",
    "SE = math.sqrt((prob_exp * (1 - prob_exp) / total_exp) + (prob_con * (1 - prob_con) / total_con))\n",
    "MDE = abs(prob_con - prob_exp)\n",
    "\n",
    "z_effect = MDE / SE \n",
    "z_beta = z_alpha - z_effect \n",
    "\n",
    "power = 1 - norm.cdf(z_beta)"
   ]
  },
  {
   "cell_type": "code",
   "execution_count": 12,
   "id": "4900b25b",
   "metadata": {
    "execution": {
     "iopub.execute_input": "2025-01-27T15:41:35.479630Z",
     "iopub.status.busy": "2025-01-27T15:41:35.479262Z",
     "iopub.status.idle": "2025-01-27T15:41:35.487490Z",
     "shell.execute_reply": "2025-01-27T15:41:35.486531Z"
    },
    "papermill": {
     "duration": 0.015662,
     "end_time": "2025-01-27T15:41:35.489356",
     "exception": false,
     "start_time": "2025-01-27T15:41:35.473694",
     "status": "completed"
    },
    "tags": []
   },
   "outputs": [
    {
     "name": "stdout",
     "output_type": "stream",
     "text": [
      "Standart Hata (SE): 0.006299874840026585\n",
      "Minimum Detectable Effect (MDE): 0.41270000000000007\n",
      "Z-Effect: 65.50923795785417\n",
      "Z-Beta: -62.93340865430527\n",
      "(Z-Alpha): 2.5758293035489004\n",
      "Power (Güç): 1.0\n"
     ]
    }
   ],
   "source": [
    "print(\"Standart Hata (SE):\", SE)\n",
    "print(\"Minimum Detectable Effect (MDE):\", MDE)\n",
    "print(\"Z-Effect:\", z_effect)\n",
    "print(\"Z-Beta:\", z_beta)\n",
    "print(\"(Z-Alpha):\", z_alpha)\n",
    "print(\"Power (Güç):\", power)"
   ]
  },
  {
   "cell_type": "code",
   "execution_count": 13,
   "id": "e76fd467",
   "metadata": {
    "execution": {
     "iopub.execute_input": "2025-01-27T15:41:35.500153Z",
     "iopub.status.busy": "2025-01-27T15:41:35.499814Z",
     "iopub.status.idle": "2025-01-27T15:41:35.503567Z",
     "shell.execute_reply": "2025-01-27T15:41:35.502678Z"
    },
    "papermill": {
     "duration": 0.010815,
     "end_time": "2025-01-27T15:41:35.505061",
     "exception": false,
     "start_time": "2025-01-27T15:41:35.494246",
     "status": "completed"
    },
    "tags": []
   },
   "outputs": [],
   "source": [
    "# We can see that the Z-Effect is really large and bigger than the Z-alpha value so it is clear that we can reject the null hypothesis"
   ]
  },
  {
   "cell_type": "code",
   "execution_count": 14,
   "id": "5c847725",
   "metadata": {
    "execution": {
     "iopub.execute_input": "2025-01-27T15:41:35.515745Z",
     "iopub.status.busy": "2025-01-27T15:41:35.515349Z",
     "iopub.status.idle": "2025-01-27T15:41:35.521049Z",
     "shell.execute_reply": "2025-01-27T15:41:35.519915Z"
    },
    "papermill": {
     "duration": 0.012885,
     "end_time": "2025-01-27T15:41:35.522705",
     "exception": false,
     "start_time": "2025-01-27T15:41:35.509820",
     "status": "completed"
    },
    "tags": []
   },
   "outputs": [
    {
     "name": "stdout",
     "output_type": "stream",
     "text": [
      "H0 rejected: There is a significant difference between the control and experimental groups.\n"
     ]
    }
   ],
   "source": [
    "if abs(z_effect) > z_alpha:  # If Z-Effect is greater than the critical value\n",
    "    result = \"H0 rejected: There is a significant difference between the control and experimental groups.\"\n",
    "else:\n",
    "    result = \"H0 not rejected: There is no significant difference between the control and experimental groups.\"\n",
    "\n",
    "print(result)"
   ]
  },
  {
   "cell_type": "code",
   "execution_count": 15,
   "id": "8da3bf1b",
   "metadata": {
    "execution": {
     "iopub.execute_input": "2025-01-27T15:41:35.533371Z",
     "iopub.status.busy": "2025-01-27T15:41:35.533023Z",
     "iopub.status.idle": "2025-01-27T15:41:35.823144Z",
     "shell.execute_reply": "2025-01-27T15:41:35.822103Z"
    },
    "papermill": {
     "duration": 0.297463,
     "end_time": "2025-01-27T15:41:35.824977",
     "exception": false,
     "start_time": "2025-01-27T15:41:35.527514",
     "status": "completed"
    },
    "tags": []
   },
   "outputs": [
    {
     "data": {
      "image/png": "[encoded data removed]",
      "text/plain": [
       "<Figure size 1000x600 with 1 Axes>"
      ]
     },
     "metadata": {},
     "output_type": "display_data"
    }
   ],
   "source": [
    "# Z testi görselleştirme\n",
    "import numpy as np\n",
    "from scipy.stats import norm\n",
    "\n",
    "# Z dağılımını oluşturuyoruz\n",
    "z_values = np.linspace(-4, 4, 500)\n",
    "z_distribution = norm.pdf(z_values, loc=0, scale=1)\n",
    "\n",
    "# Kritik değerler (reddetme bölgeleri)\n",
    "z_critical = [z_alpha, -z_alpha]\n",
    "\n",
    "# Grafik oluşturma\n",
    "plt.figure(figsize=(10, 6))\n",
    "plt.plot(z_values, z_distribution, label=\"Z Distribution\", color=\"blue\")\n",
    "\n",
    "# Kritik bölgeleri doldurma\n",
    "plt.fill_between(z_values, 0, z_distribution, where=(z_values >= z_critical[0]), color=\"red\", alpha=0.5, label=\"Reject H0 Region\")\n",
    "plt.fill_between(z_values, 0, z_distribution, where=(z_values <= z_critical[1]), color=\"red\", alpha=0.5)\n",
    "\n",
    "# Z-test istatistiğini gösterme\n",
    "plt.axvline(z_effect, color=\"green\", linestyle=\"--\", linewidth=2, label=f\"Z-Effect ({z_effect:.2f})\")\n",
    "\n",
    "# Eksen ve başlıklar\n",
    "plt.title(\"Z Test Visualization\", fontsize=16)\n",
    "plt.xlabel(\"Z-Score\", fontsize=12)\n",
    "plt.ylabel(\"Density\", fontsize=12)\n",
    "plt.legend()\n",
    "plt.show()\n"
   ]
  }
 ],
 "metadata": {
  "kaggle": {
   "accelerator": "none",
   "dataSources": [
    {
     "datasetId": 6229972,
     "sourceId": 10100840,
     "sourceType": "datasetVersion"
    }
   ],
   "dockerImageVersionId": 30839,
   "isGpuEnabled": false,
   "isInternetEnabled": true,
   "language": "python",
   "sourceType": "notebook"
  },
  "kernelspec": {
   "display_name": "Python 3",
   "language": "python",
   "name": "python3"
  },
  "language_info": {
   "codemirror_mode": {
    "name": "ipython",
    "version": 3
   },
   "file_extension": ".py",
   "mimetype": "text/x-python",
   "name": "python",
   "nbconvert_exporter": "python",
   "pygments_lexer": "ipython3",
   "version": "3.10.12"
  },
  "papermill": {
   "default_parameters": {},
   "duration": 7.063269,
   "end_time": "2025-01-27T15:41:36.551271",
   "environment_variables": {},
   "exception": null,
   "input_path": "__notebook__.ipynb",
   "output_path": "__notebook__.ipynb",
   "parameters": {},
   "start_time": "2025-01-27T15:41:29.488002",
   "version": "2.6.0"
  }
 },
 "nbformat": 4,
 "nbformat_minor": 5
}
