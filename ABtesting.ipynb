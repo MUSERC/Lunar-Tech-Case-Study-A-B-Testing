{
 "cells": [
  {
   "cell_type": "code",
   "execution_count": 11,
   "id": "49648eeb-0a63-46cf-8881-9e3b2812af2b",
   "metadata": {},
   "outputs": [],
   "source": [
    "import pandas as pd\n",
    "import numpy as np \n",
    "import seaborn as sns\n",
    "import math\n",
    "from scipy.stats import norm\n"
   ]
  },
  {
   "cell_type": "code",
   "execution_count": 3,
   "id": "c5c161a9-7c9b-413a-b56c-e5842b33b6b8",
   "metadata": {},
   "outputs": [
    {
     "name": "stdout",
     "output_type": "stream",
     "text": [
      "<class 'pandas.core.frame.DataFrame'>\n",
      "RangeIndex: 20000 entries, 0 to 19999\n",
      "Data columns (total 4 columns):\n",
      " #   Column     Non-Null Count  Dtype \n",
      "---  ------     --------------  ----- \n",
      " 0   user_id    20000 non-null  int64 \n",
      " 1   click      20000 non-null  int64 \n",
      " 2   group      20000 non-null  object\n",
      " 3   timestamp  10000 non-null  object\n",
      "dtypes: int64(2), object(2)\n",
      "memory usage: 625.1+ KB\n"
     ]
    }
   ],
   "source": [
    "data = pd.read_csv('ab_test_click_data (1).csv')\n",
    "data.info()"
   ]
  },
  {
   "cell_type": "code",
   "execution_count": 4,
   "id": "98c906df-18c6-4b61-ba4b-e03462a05a95",
   "metadata": {},
   "outputs": [
    {
     "data": {
      "text/html": [
       "<div>\n",
       "<style scoped>\n",
       "    .dataframe tbody tr th:only-of-type {\n",
       "        vertical-align: middle;\n",
       "    }\n",
       "\n",
       "    .dataframe tbody tr th {\n",
       "        vertical-align: top;\n",
       "    }\n",
       "\n",
       "    .dataframe thead th {\n",
       "        text-align: right;\n",
       "    }\n",
       "</style>\n",
       "<table border=\"1\" class=\"dataframe\">\n",
       "  <thead>\n",
       "    <tr style=\"text-align: right;\">\n",
       "      <th></th>\n",
       "      <th>user_id</th>\n",
       "      <th>click</th>\n",
       "      <th>group</th>\n",
       "      <th>timestamp</th>\n",
       "    </tr>\n",
       "  </thead>\n",
       "  <tbody>\n",
       "    <tr>\n",
       "      <th>0</th>\n",
       "      <td>1</td>\n",
       "      <td>1</td>\n",
       "      <td>exp</td>\n",
       "      <td>2024-01-01 00:00:00</td>\n",
       "    </tr>\n",
       "    <tr>\n",
       "      <th>1</th>\n",
       "      <td>2</td>\n",
       "      <td>0</td>\n",
       "      <td>exp</td>\n",
       "      <td>2024-01-01 00:01:00</td>\n",
       "    </tr>\n",
       "    <tr>\n",
       "      <th>2</th>\n",
       "      <td>3</td>\n",
       "      <td>1</td>\n",
       "      <td>exp</td>\n",
       "      <td>2024-01-01 00:02:00</td>\n",
       "    </tr>\n",
       "    <tr>\n",
       "      <th>3</th>\n",
       "      <td>4</td>\n",
       "      <td>0</td>\n",
       "      <td>exp</td>\n",
       "      <td>2024-01-01 00:03:00</td>\n",
       "    </tr>\n",
       "    <tr>\n",
       "      <th>4</th>\n",
       "      <td>5</td>\n",
       "      <td>1</td>\n",
       "      <td>exp</td>\n",
       "      <td>2024-01-01 00:04:00</td>\n",
       "    </tr>\n",
       "  </tbody>\n",
       "</table>\n",
       "</div>"
      ],
      "text/plain": [
       "   user_id  click group            timestamp\n",
       "0        1      1   exp  2024-01-01 00:00:00\n",
       "1        2      0   exp  2024-01-01 00:01:00\n",
       "2        3      1   exp  2024-01-01 00:02:00\n",
       "3        4      0   exp  2024-01-01 00:03:00\n",
       "4        5      1   exp  2024-01-01 00:04:00"
      ]
     },
     "execution_count": 4,
     "metadata": {},
     "output_type": "execute_result"
    }
   ],
   "source": [
    "data.head()"
   ]
  },
  {
   "cell_type": "code",
   "execution_count": 5,
   "id": "c1716ec7-f2c7-4c58-baec-c0df0635f9e3",
   "metadata": {},
   "outputs": [],
   "source": [
    "#since we are doing A/B testing we are trying to find the effect of changes in the product so we need to use only click and group   "
   ]
  },
  {
   "cell_type": "code",
   "execution_count": 13,
   "id": "4c0b78c7-97a0-4222-8961-94f6ca9e0273",
   "metadata": {},
   "outputs": [],
   "source": [
    "exp_sum = data[data['group'] == 'exp']['click'].sum()\n",
    "con_sum = data[data['group'] == 'con']['click'].sum() if 'con' in data['group'].values else 0\n",
    "total_exp = (data['group'] == 'exp').sum()\n",
    "total_con = (data['group'] == 'con').sum()\n",
    "\n",
    "prob_exp = exp_sum / total_exp\n",
    "prob_con = con_sum / total_con"
   ]
  },
  {
   "cell_type": "code",
   "execution_count": 9,
   "id": "50ecd658-8feb-45f7-bc24-a4b2367c888a",
   "metadata": {},
   "outputs": [
    {
     "name": "stdout",
     "output_type": "stream",
     "text": [
      "Sum of '1's in exp: 6116\n",
      "Sum of '1's in con: 1989\n",
      "Total exp count: 10000\n",
      "Total con count: 10000\n"
     ]
    }
   ],
   "source": [
    "print(f\"Sum of '1's in exp: {exp_sum}\")\n",
    "print(f\"Sum of '1's in con: {con_sum}\")\n",
    "print(f\"Total exp count: {total_exp}\")\n",
    "print(f\"Total con count: {total_con}\")"
   ]
  },
  {
   "cell_type": "code",
   "execution_count": 10,
   "id": "9bc0f4da-fc5a-4237-84a7-9938f0239a20",
   "metadata": {},
   "outputs": [],
   "source": [
    "# It is so obvious there is a significant change between control group and expretiment group but in order to prove we will further apply the Z test"
   ]
  },
  {
   "cell_type": "code",
   "execution_count": null,
   "id": "04ad6ad2-b202-4a28-abe6-d53ea2a1a024",
   "metadata": {},
   "outputs": [],
   "source": [
    "#Power Analysis------ We will decide the power, significance level and Minimum Detectable Effect"
   ]
  },
  {
   "cell_type": "code",
   "execution_count": null,
   "id": "491c560e-94c6-4d77-bee5-1385ee8e483a",
   "metadata": {},
   "outputs": [],
   "source": [
    "#Usually the companies decide the power then start to gathering data but since in that case ew have data we will find the power "
   ]
  },
  {
   "cell_type": "code",
   "execution_count": 19,
   "id": "8552b210-52ad-4476-acc1-bef20cf57f38",
   "metadata": {},
   "outputs": [],
   "source": [
    "alpha = 0.01 # because there is really big probabalistic difference \n",
    "\n",
    "z_alpha = norm.ppf(1 - alpha / 2) \n",
    "\n",
    "SE = math.sqrt((prob_exp * (1 - prob_exp) / total_exp) + (prob_con * (1 - prob_con) / total_con))\n",
    "MDE = abs(prob_con - prob_exp)\n",
    "\n",
    "z_effect = MDE / SE \n",
    "z_beta = z_alpha - z_effect \n",
    "\n",
    "power = 1 - norm.cdf(z_beta)"
   ]
  },
  {
   "cell_type": "code",
   "execution_count": 21,
   "id": "7b67ebf9-644a-47c2-9fed-16fd843c7e5f",
   "metadata": {},
   "outputs": [
    {
     "name": "stdout",
     "output_type": "stream",
     "text": [
      "Standart Hata (SE): 0.006299874840026585\n",
      "Minimum Detectable Effect (MDE): 0.41270000000000007\n",
      "Z-Effect: 65.50923795785417\n",
      "Z-Beta: -62.93340865430527\n",
      "(Z-Alpha): 2.5758293035489004\n",
      "Power (Güç): 1.0\n"
     ]
    }
   ],
   "source": [
    "print(\"Standart Hata (SE):\", SE)\n",
    "print(\"Minimum Detectable Effect (MDE):\", MDE)\n",
    "print(\"Z-Effect:\", z_effect)\n",
    "print(\"Z-Beta:\", z_beta)\n",
    "print(\"(Z-Alpha):\", z_alpha)\n",
    "print(\"Power (Güç):\", power)"
   ]
  },
  {
   "cell_type": "code",
   "execution_count": 22,
   "id": "406b4312-884c-4cae-8602-6dee2b5775e2",
   "metadata": {},
   "outputs": [],
   "source": [
    "# We can see that the Z-Effect is really large and bigger than the Z-alpha value so it is clear that we can reject the null hypothesis"
   ]
  },
  {
   "cell_type": "code",
   "execution_count": 24,
   "id": "c2b692e6-abaf-4cee-b823-7938955813c6",
   "metadata": {},
   "outputs": [
    {
     "name": "stdout",
     "output_type": "stream",
     "text": [
      "H0 rejected: There is a significant difference between the control and experimental groups.\n"
     ]
    }
   ],
   "source": [
    "if abs(z_effect) > z_alpha:  # If Z-Effect is greater than the critical value\n",
    "    result = \"H0 rejected: There is a significant difference between the control and experimental groups.\"\n",
    "else:\n",
    "    result = \"H0 not rejected: There is no significant difference between the control and experimental groups.\"\n",
    "\n",
    "print(result)"
   ]
  },
  {
   "cell_type": "code",
   "execution_count": null,
   "id": "c8fa2bcd-b156-445f-a83b-4ba200190cb9",
   "metadata": {},
   "outputs": [],
   "source": []
  }
 ],
 "metadata": {
  "kernelspec": {
   "display_name": "Python 3 (ipykernel)",
   "language": "python",
   "name": "python3"
  },
  "language_info": {
   "codemirror_mode": {
    "name": "ipython",
    "version": 3
   },
   "file_extension": ".py",
   "mimetype": "text/x-python",
   "name": "python",
   "nbconvert_exporter": "python",
   "pygments_lexer": "ipython3",
   "version": "3.12.6"
  }
 },
 "nbformat": 4,
 "nbformat_minor": 5
}
